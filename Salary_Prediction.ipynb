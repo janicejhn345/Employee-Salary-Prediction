{
 "cells": [
  {
   "cell_type": "code",
   "execution_count": 2,
   "id": "b37afe25-ad0f-4545-886f-6231b63f532a",
   "metadata": {},
   "outputs": [],
   "source": [
    "#import all libraries required in this project\n",
    "\n",
    "import pandas as pd\n",
    "import numpy as np\n",
    "import matplotlib.pyplot as plt\n",
    "import seaborn as sns"
   ]
  },
  {
   "cell_type": "code",
   "execution_count": 3,
   "id": "10a3904f-8ab1-428d-963f-499dcfc45753",
   "metadata": {},
   "outputs": [
    {
     "data": {
      "text/html": [
       "<div>\n",
       "<style scoped>\n",
       "    .dataframe tbody tr th:only-of-type {\n",
       "        vertical-align: middle;\n",
       "    }\n",
       "\n",
       "    .dataframe tbody tr th {\n",
       "        vertical-align: top;\n",
       "    }\n",
       "\n",
       "    .dataframe thead th {\n",
       "        text-align: right;\n",
       "    }\n",
       "</style>\n",
       "<table border=\"1\" class=\"dataframe\">\n",
       "  <thead>\n",
       "    <tr style=\"text-align: right;\">\n",
       "      <th></th>\n",
       "      <th>Employee_ID</th>\n",
       "      <th>First Name</th>\n",
       "      <th>Last Name</th>\n",
       "      <th>Gender</th>\n",
       "      <th>State</th>\n",
       "      <th>City</th>\n",
       "      <th>Education Level</th>\n",
       "      <th>Birthdate</th>\n",
       "      <th>Hiredate</th>\n",
       "      <th>Termdate</th>\n",
       "      <th>Department</th>\n",
       "      <th>Job Title</th>\n",
       "      <th>Salary</th>\n",
       "      <th>Performance Rating</th>\n",
       "    </tr>\n",
       "  </thead>\n",
       "  <tbody>\n",
       "    <tr>\n",
       "      <th>0</th>\n",
       "      <td>00-95822412</td>\n",
       "      <td>Danielle</td>\n",
       "      <td>Johnson</td>\n",
       "      <td>Female</td>\n",
       "      <td>New York</td>\n",
       "      <td>New York City</td>\n",
       "      <td>High School</td>\n",
       "      <td>13/02/1980</td>\n",
       "      <td>16/04/2016</td>\n",
       "      <td>05/07/2021</td>\n",
       "      <td>Customer Service</td>\n",
       "      <td>Help Desk Technician</td>\n",
       "      <td>81552</td>\n",
       "      <td>Needs Improvement</td>\n",
       "    </tr>\n",
       "    <tr>\n",
       "      <th>1</th>\n",
       "      <td>00-42868828</td>\n",
       "      <td>John</td>\n",
       "      <td>Taylor</td>\n",
       "      <td>Male</td>\n",
       "      <td>North Carolina</td>\n",
       "      <td>Charlotte</td>\n",
       "      <td>Bachelor</td>\n",
       "      <td>22/09/1987</td>\n",
       "      <td>09/02/2017</td>\n",
       "      <td>14/06/2019</td>\n",
       "      <td>IT</td>\n",
       "      <td>System Administrator</td>\n",
       "      <td>107520</td>\n",
       "      <td>Good</td>\n",
       "    </tr>\n",
       "    <tr>\n",
       "      <th>2</th>\n",
       "      <td>00-83197857</td>\n",
       "      <td>Erica</td>\n",
       "      <td>Mcclain</td>\n",
       "      <td>Male</td>\n",
       "      <td>New York</td>\n",
       "      <td>New York City</td>\n",
       "      <td>Bachelor</td>\n",
       "      <td>19/05/1994</td>\n",
       "      <td>03/02/2016</td>\n",
       "      <td>06/03/2021</td>\n",
       "      <td>Operations</td>\n",
       "      <td>Logistics Coordinator</td>\n",
       "      <td>61104</td>\n",
       "      <td>Good</td>\n",
       "    </tr>\n",
       "    <tr>\n",
       "      <th>3</th>\n",
       "      <td>00-13999315</td>\n",
       "      <td>Brittany</td>\n",
       "      <td>Johnson</td>\n",
       "      <td>Male</td>\n",
       "      <td>New York</td>\n",
       "      <td>New York City</td>\n",
       "      <td>Bachelor</td>\n",
       "      <td>18/04/1980</td>\n",
       "      <td>06/02/2016</td>\n",
       "      <td>06/11/2018</td>\n",
       "      <td>Operations</td>\n",
       "      <td>Inventory Specialist</td>\n",
       "      <td>73770</td>\n",
       "      <td>Good</td>\n",
       "    </tr>\n",
       "    <tr>\n",
       "      <th>4</th>\n",
       "      <td>00-90801586</td>\n",
       "      <td>Jeffery</td>\n",
       "      <td>Wagner</td>\n",
       "      <td>Female</td>\n",
       "      <td>New York</td>\n",
       "      <td>New York City</td>\n",
       "      <td>Bachelor</td>\n",
       "      <td>07/04/1985</td>\n",
       "      <td>11/01/2015</td>\n",
       "      <td>NaN</td>\n",
       "      <td>Operations</td>\n",
       "      <td>Operations Analyst</td>\n",
       "      <td>55581</td>\n",
       "      <td>Satisfactory</td>\n",
       "    </tr>\n",
       "  </tbody>\n",
       "</table>\n",
       "</div>"
      ],
      "text/plain": [
       "   Employee_ID First Name Last Name  Gender           State           City  \\\n",
       "0  00-95822412   Danielle   Johnson  Female        New York  New York City   \n",
       "1  00-42868828       John    Taylor    Male  North Carolina      Charlotte   \n",
       "2  00-83197857      Erica   Mcclain    Male        New York  New York City   \n",
       "3  00-13999315   Brittany   Johnson    Male        New York  New York City   \n",
       "4  00-90801586    Jeffery    Wagner  Female        New York  New York City   \n",
       "\n",
       "  Education Level   Birthdate    Hiredate    Termdate        Department  \\\n",
       "0     High School  13/02/1980  16/04/2016  05/07/2021  Customer Service   \n",
       "1        Bachelor  22/09/1987  09/02/2017  14/06/2019                IT   \n",
       "2        Bachelor  19/05/1994  03/02/2016  06/03/2021        Operations   \n",
       "3        Bachelor  18/04/1980  06/02/2016  06/11/2018        Operations   \n",
       "4        Bachelor  07/04/1985  11/01/2015         NaN        Operations   \n",
       "\n",
       "               Job Title  Salary Performance Rating  \n",
       "0   Help Desk Technician   81552  Needs Improvement  \n",
       "1   System Administrator  107520               Good  \n",
       "2  Logistics Coordinator   61104               Good  \n",
       "3   Inventory Specialist   73770               Good  \n",
       "4     Operations Analyst   55581       Satisfactory  "
      ]
     },
     "execution_count": 3,
     "metadata": {},
     "output_type": "execute_result"
    }
   ],
   "source": [
    "#read the data using pandas\n",
    "\n",
    "df = pd.read_csv('HumanResources.csv', delimiter = ';')\n",
    "df.head()"
   ]
  },
  {
   "cell_type": "markdown",
   "id": "45fd5061-9cde-44ae-b401-c1b159e7ab3a",
   "metadata": {},
   "source": [
    "## Exploring statistical summary of Employee Salary:"
   ]
  },
  {
   "cell_type": "markdown",
   "id": "c5d9a028-ccac-493d-8cf1-f79ac6c2aa0c",
   "metadata": {},
   "source": [
    "To get an idea about salary distribution, let's dive into descriptive statistics for the salary column."
   ]
  },
  {
   "cell_type": "code",
   "execution_count": 3,
   "id": "3c7d9221-204a-4eaa-a577-ad67e052b1e1",
   "metadata": {},
   "outputs": [
    {
     "data": {
      "text/html": [
       "<div>\n",
       "<style scoped>\n",
       "    .dataframe tbody tr th:only-of-type {\n",
       "        vertical-align: middle;\n",
       "    }\n",
       "\n",
       "    .dataframe tbody tr th {\n",
       "        vertical-align: top;\n",
       "    }\n",
       "\n",
       "    .dataframe thead th {\n",
       "        text-align: right;\n",
       "    }\n",
       "</style>\n",
       "<table border=\"1\" class=\"dataframe\">\n",
       "  <thead>\n",
       "    <tr style=\"text-align: right;\">\n",
       "      <th></th>\n",
       "      <th>Salary</th>\n",
       "    </tr>\n",
       "  </thead>\n",
       "  <tbody>\n",
       "    <tr>\n",
       "      <th>count</th>\n",
       "      <td>8950.000000</td>\n",
       "    </tr>\n",
       "    <tr>\n",
       "      <th>mean</th>\n",
       "      <td>70964.213520</td>\n",
       "    </tr>\n",
       "    <tr>\n",
       "      <th>std</th>\n",
       "      <td>13763.126237</td>\n",
       "    </tr>\n",
       "    <tr>\n",
       "      <th>min</th>\n",
       "      <td>51835.000000</td>\n",
       "    </tr>\n",
       "    <tr>\n",
       "      <th>25%</th>\n",
       "      <td>60920.500000</td>\n",
       "    </tr>\n",
       "    <tr>\n",
       "      <th>50%</th>\n",
       "      <td>66592.500000</td>\n",
       "    </tr>\n",
       "    <tr>\n",
       "      <th>75%</th>\n",
       "      <td>78600.500000</td>\n",
       "    </tr>\n",
       "    <tr>\n",
       "      <th>max</th>\n",
       "      <td>149377.000000</td>\n",
       "    </tr>\n",
       "  </tbody>\n",
       "</table>\n",
       "</div>"
      ],
      "text/plain": [
       "              Salary\n",
       "count    8950.000000\n",
       "mean    70964.213520\n",
       "std     13763.126237\n",
       "min     51835.000000\n",
       "25%     60920.500000\n",
       "50%     66592.500000\n",
       "75%     78600.500000\n",
       "max    149377.000000"
      ]
     },
     "execution_count": 3,
     "metadata": {},
     "output_type": "execute_result"
    }
   ],
   "source": [
    "df.describe()"
   ]
  },
  {
   "cell_type": "markdown",
   "id": "61ce8726-ce13-4b51-9bf8-96f96baeba67",
   "metadata": {},
   "source": [
    "- Avg Salary of employees is approx. $70,964\n",
    "\n",
    "- Around 25% of employees earn more than $78k. This indicates a potential group og highly paid employees in the company."
   ]
  },
  {
   "cell_type": "markdown",
   "id": "a06ccf94-c86e-47d3-a783-780ca6c7c182",
   "metadata": {},
   "source": [
    "## Check for any duplicates in the data set."
   ]
  },
  {
   "cell_type": "code",
   "execution_count": 13,
   "id": "daa74947-fcef-45bc-a782-9ce7abf9d036",
   "metadata": {},
   "outputs": [
    {
     "data": {
      "text/plain": [
       "np.int64(0)"
      ]
     },
     "execution_count": 13,
     "metadata": {},
     "output_type": "execute_result"
    }
   ],
   "source": [
    "df['Employee_ID'].duplicated().sum()"
   ]
  },
  {
   "cell_type": "markdown",
   "id": "3522bf33-2b11-4de5-a55b-053f44b7b491",
   "metadata": {},
   "source": [
    "### Cleaned and interpreted term_date nulls by marking active employees, preserving key workforce insights.\n"
   ]
  },
  {
   "cell_type": "markdown",
   "id": "5a5d97b4-0971-47e0-85f3-cb0561a5b969",
   "metadata": {},
   "source": [
    "Calculating the total number of missing values in each column and handling them."
   ]
  },
  {
   "cell_type": "code",
   "execution_count": 4,
   "id": "a9041397-7af9-4230-a83c-482b74bd6194",
   "metadata": {},
   "outputs": [
    {
     "data": {
      "text/plain": [
       "Employee_ID              0\n",
       "First Name               0\n",
       "Last Name                0\n",
       "Gender                   0\n",
       "State                    0\n",
       "City                     0\n",
       "Education Level          0\n",
       "Birthdate                0\n",
       "Hiredate                 0\n",
       "Termdate              7984\n",
       "Department               0\n",
       "Job Title                0\n",
       "Salary                   0\n",
       "Performance Rating       0\n",
       "dtype: int64"
      ]
     },
     "execution_count": 4,
     "metadata": {},
     "output_type": "execute_result"
    }
   ],
   "source": [
    "df.isnull().sum()  "
   ]
  },
  {
   "cell_type": "markdown",
   "id": "cbd55aaa-2d14-40ee-a60b-2941c5705f8a",
   "metadata": {},
   "source": [
    "The output confirms that only the `Termdate` column has missing values, with a total of **7984** null entries. As a terminated employee would have a termination date, a null value here logically indicates that the employee is still active."
   ]
  },
  {
   "cell_type": "code",
   "execution_count": 5,
   "id": "4919ef91-023b-4bbd-83cd-c84f2ecc545d",
   "metadata": {},
   "outputs": [
    {
     "data": {
      "text/html": [
       "<div>\n",
       "<style scoped>\n",
       "    .dataframe tbody tr th:only-of-type {\n",
       "        vertical-align: middle;\n",
       "    }\n",
       "\n",
       "    .dataframe tbody tr th {\n",
       "        vertical-align: top;\n",
       "    }\n",
       "\n",
       "    .dataframe thead th {\n",
       "        text-align: right;\n",
       "    }\n",
       "</style>\n",
       "<table border=\"1\" class=\"dataframe\">\n",
       "  <thead>\n",
       "    <tr style=\"text-align: right;\">\n",
       "      <th></th>\n",
       "      <th>Employee_ID</th>\n",
       "      <th>First Name</th>\n",
       "      <th>Last Name</th>\n",
       "      <th>Gender</th>\n",
       "      <th>State</th>\n",
       "      <th>City</th>\n",
       "      <th>Education Level</th>\n",
       "      <th>Birthdate</th>\n",
       "      <th>Hiredate</th>\n",
       "      <th>Termdate</th>\n",
       "      <th>Department</th>\n",
       "      <th>Job Title</th>\n",
       "      <th>Salary</th>\n",
       "      <th>Performance Rating</th>\n",
       "    </tr>\n",
       "  </thead>\n",
       "  <tbody>\n",
       "    <tr>\n",
       "      <th>47</th>\n",
       "      <td>00-26879290</td>\n",
       "      <td>Chelsea</td>\n",
       "      <td>Hernandez</td>\n",
       "      <td>Female</td>\n",
       "      <td>Pennsylvania</td>\n",
       "      <td>Philadelphia</td>\n",
       "      <td>Master</td>\n",
       "      <td>19/10/1982</td>\n",
       "      <td>23/10/2016</td>\n",
       "      <td>05/06/2019</td>\n",
       "      <td>Sales</td>\n",
       "      <td>Sales Consultant</td>\n",
       "      <td>71142</td>\n",
       "      <td>Good</td>\n",
       "    </tr>\n",
       "    <tr>\n",
       "      <th>2182</th>\n",
       "      <td>00-96853189</td>\n",
       "      <td>Donald</td>\n",
       "      <td>Lee</td>\n",
       "      <td>Female</td>\n",
       "      <td>New York</td>\n",
       "      <td>Rochester</td>\n",
       "      <td>High School</td>\n",
       "      <td>18/07/1989</td>\n",
       "      <td>07/10/2021</td>\n",
       "      <td>Active</td>\n",
       "      <td>Customer Service</td>\n",
       "      <td>Help Desk Technician</td>\n",
       "      <td>70332</td>\n",
       "      <td>Satisfactory</td>\n",
       "    </tr>\n",
       "    <tr>\n",
       "      <th>4124</th>\n",
       "      <td>00-79590395</td>\n",
       "      <td>Angela</td>\n",
       "      <td>Clark</td>\n",
       "      <td>Female</td>\n",
       "      <td>New York</td>\n",
       "      <td>New York City</td>\n",
       "      <td>High School</td>\n",
       "      <td>30/01/1976</td>\n",
       "      <td>11/03/2017</td>\n",
       "      <td>Active</td>\n",
       "      <td>Customer Service</td>\n",
       "      <td>Support Specialist</td>\n",
       "      <td>63787</td>\n",
       "      <td>Needs Improvement</td>\n",
       "    </tr>\n",
       "    <tr>\n",
       "      <th>5501</th>\n",
       "      <td>00-74205049</td>\n",
       "      <td>Matthew</td>\n",
       "      <td>Martin</td>\n",
       "      <td>Female</td>\n",
       "      <td>Michigan</td>\n",
       "      <td>Detroit</td>\n",
       "      <td>Bachelor</td>\n",
       "      <td>09/06/1999</td>\n",
       "      <td>03/07/2022</td>\n",
       "      <td>Active</td>\n",
       "      <td>IT</td>\n",
       "      <td>Software Developer</td>\n",
       "      <td>80349</td>\n",
       "      <td>Satisfactory</td>\n",
       "    </tr>\n",
       "    <tr>\n",
       "      <th>4434</th>\n",
       "      <td>00-25692917</td>\n",
       "      <td>Robert</td>\n",
       "      <td>Fields</td>\n",
       "      <td>Male</td>\n",
       "      <td>New York</td>\n",
       "      <td>Rochester</td>\n",
       "      <td>High School</td>\n",
       "      <td>04/09/1969</td>\n",
       "      <td>29/08/2018</td>\n",
       "      <td>Active</td>\n",
       "      <td>IT</td>\n",
       "      <td>IT Support Specialist</td>\n",
       "      <td>59551</td>\n",
       "      <td>Satisfactory</td>\n",
       "    </tr>\n",
       "    <tr>\n",
       "      <th>533</th>\n",
       "      <td>00-26664623</td>\n",
       "      <td>Steven</td>\n",
       "      <td>Campbell</td>\n",
       "      <td>Male</td>\n",
       "      <td>New York</td>\n",
       "      <td>New York City</td>\n",
       "      <td>Master</td>\n",
       "      <td>21/03/1989</td>\n",
       "      <td>28/05/2020</td>\n",
       "      <td>24/11/2020</td>\n",
       "      <td>Sales</td>\n",
       "      <td>Sales Consultant</td>\n",
       "      <td>79231</td>\n",
       "      <td>Excellent</td>\n",
       "    </tr>\n",
       "    <tr>\n",
       "      <th>1494</th>\n",
       "      <td>00-99482259</td>\n",
       "      <td>Kenneth</td>\n",
       "      <td>Walters</td>\n",
       "      <td>Female</td>\n",
       "      <td>New York</td>\n",
       "      <td>New York City</td>\n",
       "      <td>Bachelor</td>\n",
       "      <td>20/05/1971</td>\n",
       "      <td>26/04/2017</td>\n",
       "      <td>Active</td>\n",
       "      <td>Operations</td>\n",
       "      <td>Logistics Coordinator</td>\n",
       "      <td>65195</td>\n",
       "      <td>Excellent</td>\n",
       "    </tr>\n",
       "    <tr>\n",
       "      <th>5620</th>\n",
       "      <td>00-55045402</td>\n",
       "      <td>Sarah</td>\n",
       "      <td>Collins</td>\n",
       "      <td>Female</td>\n",
       "      <td>Ohio</td>\n",
       "      <td>Cleveland</td>\n",
       "      <td>Bachelor</td>\n",
       "      <td>17/10/1990</td>\n",
       "      <td>06/12/2020</td>\n",
       "      <td>Active</td>\n",
       "      <td>Operations</td>\n",
       "      <td>Logistics Coordinator</td>\n",
       "      <td>57202</td>\n",
       "      <td>Excellent</td>\n",
       "    </tr>\n",
       "    <tr>\n",
       "      <th>8565</th>\n",
       "      <td>00-90490408</td>\n",
       "      <td>Jonathan</td>\n",
       "      <td>Jordan</td>\n",
       "      <td>Male</td>\n",
       "      <td>New York</td>\n",
       "      <td>Rochester</td>\n",
       "      <td>PhD</td>\n",
       "      <td>12/05/1974</td>\n",
       "      <td>03/01/2021</td>\n",
       "      <td>Active</td>\n",
       "      <td>Sales</td>\n",
       "      <td>Sales Specialist</td>\n",
       "      <td>76590</td>\n",
       "      <td>Satisfactory</td>\n",
       "    </tr>\n",
       "    <tr>\n",
       "      <th>6261</th>\n",
       "      <td>00-82636467</td>\n",
       "      <td>David</td>\n",
       "      <td>Campbell</td>\n",
       "      <td>Male</td>\n",
       "      <td>Michigan</td>\n",
       "      <td>Detroit</td>\n",
       "      <td>High School</td>\n",
       "      <td>11/12/1972</td>\n",
       "      <td>10/09/2017</td>\n",
       "      <td>Active</td>\n",
       "      <td>Customer Service</td>\n",
       "      <td>Support Specialist</td>\n",
       "      <td>66939</td>\n",
       "      <td>Excellent</td>\n",
       "    </tr>\n",
       "  </tbody>\n",
       "</table>\n",
       "</div>"
      ],
      "text/plain": [
       "      Employee_ID First Name  Last Name  Gender         State           City  \\\n",
       "47    00-26879290    Chelsea  Hernandez  Female  Pennsylvania   Philadelphia   \n",
       "2182  00-96853189     Donald        Lee  Female      New York      Rochester   \n",
       "4124  00-79590395     Angela      Clark  Female      New York  New York City   \n",
       "5501  00-74205049    Matthew     Martin  Female      Michigan        Detroit   \n",
       "4434  00-25692917     Robert     Fields    Male      New York      Rochester   \n",
       "533   00-26664623     Steven   Campbell    Male      New York  New York City   \n",
       "1494  00-99482259    Kenneth    Walters  Female      New York  New York City   \n",
       "5620  00-55045402      Sarah    Collins  Female          Ohio      Cleveland   \n",
       "8565  00-90490408   Jonathan     Jordan    Male      New York      Rochester   \n",
       "6261  00-82636467      David   Campbell    Male      Michigan        Detroit   \n",
       "\n",
       "     Education Level   Birthdate    Hiredate    Termdate        Department  \\\n",
       "47            Master  19/10/1982  23/10/2016  05/06/2019             Sales   \n",
       "2182     High School  18/07/1989  07/10/2021      Active  Customer Service   \n",
       "4124     High School  30/01/1976  11/03/2017      Active  Customer Service   \n",
       "5501        Bachelor  09/06/1999  03/07/2022      Active                IT   \n",
       "4434     High School  04/09/1969  29/08/2018      Active                IT   \n",
       "533           Master  21/03/1989  28/05/2020  24/11/2020             Sales   \n",
       "1494        Bachelor  20/05/1971  26/04/2017      Active        Operations   \n",
       "5620        Bachelor  17/10/1990  06/12/2020      Active        Operations   \n",
       "8565             PhD  12/05/1974  03/01/2021      Active             Sales   \n",
       "6261     High School  11/12/1972  10/09/2017      Active  Customer Service   \n",
       "\n",
       "                  Job Title  Salary Performance Rating  \n",
       "47         Sales Consultant   71142               Good  \n",
       "2182   Help Desk Technician   70332       Satisfactory  \n",
       "4124     Support Specialist   63787  Needs Improvement  \n",
       "5501     Software Developer   80349       Satisfactory  \n",
       "4434  IT Support Specialist   59551       Satisfactory  \n",
       "533        Sales Consultant   79231          Excellent  \n",
       "1494  Logistics Coordinator   65195          Excellent  \n",
       "5620  Logistics Coordinator   57202          Excellent  \n",
       "8565       Sales Specialist   76590       Satisfactory  \n",
       "6261     Support Specialist   66939          Excellent  "
      ]
     },
     "execution_count": 5,
     "metadata": {},
     "output_type": "execute_result"
    }
   ],
   "source": [
    "df['Termdate'] = df['Termdate'].fillna('Active')\n",
    "df.sample(10)"
   ]
  },
  {
   "cell_type": "markdown",
   "id": "ea665534-d5f4-40ae-a826-477c6e99a3a9",
   "metadata": {},
   "source": [
    "### Checking for Missing values in the dataset."
   ]
  },
  {
   "cell_type": "code",
   "execution_count": 16,
   "id": "eca1d388-91ba-4179-a996-3bca21faf709",
   "metadata": {},
   "outputs": [
    {
     "data": {
      "image/png": "[encoded data removed]",
      "text/plain": [
       "<Figure size 1600x500 with 1 Axes>"
      ]
     },
     "metadata": {},
     "output_type": "display_data"
    }
   ],
   "source": [
    "missing = pd.DataFrame((df.isnull().sum())*100/df.shape[0]).reset_index()\n",
    "missing.columns = ['Column', 'Missing Percent']\n",
    "plt.figure(figsize = (16,5))\n",
    "sns.pointplot(x = 'Column', y = 'Missing Percent', data = missing)\n",
    "plt.xticks(rotation = 90, fontsize = 7)\n",
    "plt.title('Percentage of missing values')\n",
    "plt.ylabel('Percentage')\n",
    "plt.show()"
   ]
  },
  {
   "cell_type": "markdown",
   "id": "d16df576-7373-4fa8-958b-315139092d6c",
   "metadata": {},
   "source": [
    "## Initial Intuition: \n",
    "There are no missing values in the data set."
   ]
  },
  {
   "cell_type": "code",
   "execution_count": 15,
   "id": "39af01c1-69c3-484a-88cb-1fcaac49e027",
   "metadata": {},
   "outputs": [
    {
     "data": {
      "image/png": "[encoded data removed]",
      "text/plain": [
       "<Figure size 600x600 with 1 Axes>"
      ]
     },
     "metadata": {},
     "output_type": "display_data"
    }
   ],
   "source": [
    "plt.figure(figsize = (6,6))\n",
    "sns.boxplot(x = df['Salary'])\n",
    "plt.title(\"Boxplot of Employee Salaries\")\n",
    "plt.xlabel(\"Salary\")\n",
    "plt.show()"
   ]
  },
  {
   "cell_type": "markdown",
   "id": "4ac83132-168a-424e-9a7e-76b30e8e5e07",
   "metadata": {},
   "source": [
    "## Initial Insights from Salary Outlier Analysis\n",
    "\n",
    "* The majority of employee salaries lie between 60,000$-80,000$ as shown by the interquartile range (IQR).\n",
    "\n",
    "* The median salary is around $66,000–67,000, which matches our earlier descriptive statistics.\n",
    "\n",
    "* A significant number of employees earn above $100,000, which appear as outliers on the boxplot.\n",
    "\n",
    "* These outliers may represent senior-level positions, executives, or niche high-paying roles within the company.\n",
    "\n",
    "* Since salaries in real-world HR datasets naturally vary by job role and hierarchy, these outliers are valid data points and not errors and thus, they should be retained for analysis instead of removed."
   ]
  },
  {
   "cell_type": "markdown",
   "id": "d3ff14bf-bcbd-434f-a7d3-f2bdeb9c24b8",
   "metadata": {},
   "source": [
    "## Employee Distribution By Department "
   ]
  },
  {
   "cell_type": "markdown",
   "id": "db89aad2-b614-45dd-9e12-8e93767c1b89",
   "metadata": {},
   "source": [
    "The Bar Chart shows the distribution of employees in each department of the Company"
   ]
  },
  {
   "cell_type": "markdown",
   "id": "62cbb887-17a3-4a8d-bb21-1fb70abb19ce",
   "metadata": {},
   "source": [
    "From the chart, we can see a clear imbalance in the workforce distribution. The **Operations** and **Sales** departments are the largest, with a significantly higher number of employees than departments like **HR** and **Finance Department**, which have the smallest teams."
   ]
  },
  {
   "cell_type": "code",
   "execution_count": 24,
   "id": "ba18a4e8-0896-4f48-a086-36c50b451c2b",
   "metadata": {},
   "outputs": [
    {
     "data": {
      "text/plain": [
       "Text(0, 0.5, 'Count of Employees')"
      ]
     },
     "execution_count": 24,
     "metadata": {},
     "output_type": "execute_result"
    },
    {
     "data": {
      "image/png": "[encoded data removed]",
      "text/plain": [
       "<Figure size 1000x600 with 1 Axes>"
      ]
     },
     "metadata": {},
     "output_type": "display_data"
    }
   ],
   "source": [
    "plt.figure(figsize=(10,6))\n",
    "sns.countplot(x = 'Department', data = df)\n",
    "plt.title(\"Number of Employees per Department\")\n",
    "plt.xlabel(\"Department\")\n",
    "plt.ylabel(\"Count of Employees\")"
   ]
  },
  {
   "cell_type": "markdown",
   "id": "eb87f73e-dbf2-456e-b4f1-ea5ab0aaf1fd",
   "metadata": {},
   "source": [
    "### Average Salary of Males are Higher compared to Females"
   ]
  },
  {
   "cell_type": "markdown",
   "id": "10b69b2d-b05f-482a-a9ee-5bfedd86de9f",
   "metadata": {},
   "source": [
    "To investigate potential pay differences, we've compared the average salary between male and female employees. The bar chart shows the average salaries for each gender.\n"
   ]
  },
  {
   "cell_type": "code",
   "execution_count": 5,
   "id": "18ab20e0-435d-4930-9d45-248a0d8d4b00",
   "metadata": {},
   "outputs": [
    {
     "data": {
      "image/png": "[encoded data removed]",
      "text/plain": [
       "<Figure size 640x480 with 1 Axes>"
      ]
     },
     "metadata": {},
     "output_type": "display_data"
    }
   ],
   "source": [
    "gender_salary = df.groupby(\"Gender\")[\"Salary\"].mean()\n",
    "plt.bar(gender_salary.index, gender_salary.values, color=['Pink', 'skyblue'])\n",
    "plt.xlabel('Gender')\n",
    "plt.ylabel('Salary Growth')\n",
    "plt.title('Gender vs Salary')\n",
    "plt.show()"
   ]
  },
  {
   "cell_type": "markdown",
   "id": "1d65a91b-63ff-407c-bf94-0b10c7005fc7",
   "metadata": {},
   "source": [
    "### Higher Education drives Higher Compensation."
   ]
  },
  {
   "cell_type": "markdown",
   "id": "91c12a1f-60ea-4a20-8fe2-315f5380daa4",
   "metadata": {},
   "source": [
    "The bar chart helps compare and analyze the impact of Education level on employees' average Salary"
   ]
  },
  {
   "cell_type": "code",
   "execution_count": 22,
   "id": "c74fc976-8d96-42de-b900-fce09ca2e0f6",
   "metadata": {},
   "outputs": [
    {
     "data": {
      "text/plain": [
       "Text(0.5, 1.0, 'Education Vs Salary')"
      ]
     },
     "execution_count": 22,
     "metadata": {},
     "output_type": "execute_result"
    },
    {
     "data": {
      "image/png": "[encoded data removed]",
      "text/plain": [
       "<Figure size 640x480 with 1 Axes>"
      ]
     },
     "metadata": {},
     "output_type": "display_data"
    }
   ],
   "source": [
    "education_salary = df.groupby('Education Level')['Salary'].mean()\n",
    "plt.bar(education_salary.index, education_salary.values)\n",
    "plt.xlabel('Education Level')\n",
    "plt.ylabel('Avg Salary')\n",
    "plt.title('Education Vs Salary')"
   ]
  },
  {
   "cell_type": "markdown",
   "id": "fd1a8ba0-6fa9-4862-89d1-988ede7413d5",
   "metadata": {},
   "source": [
    "Processing birthdate data to compute each employee's age for analysis\n",
    "\n"
   ]
  },
  {
   "cell_type": "code",
   "execution_count": 6,
   "id": "443339ed-884a-4b33-aaf2-8abdfd31a1d0",
   "metadata": {},
   "outputs": [],
   "source": [
    "from datetime import datetime\n",
    "df['Birthdate'] = pd.to_datetime(df['Birthdate'], dayfirst = True)\n",
    "\n",
    "# Define today's date \n",
    "today = pd.to_datetime(\"today\")\n",
    "\n",
    "# Calculating age\n",
    "df['Age'] = (today - df['Birthdate']).dt.days // 365"
   ]
  },
  {
   "cell_type": "markdown",
   "id": "e3e74673-c1e3-4c71-89f7-8442e9802ad1",
   "metadata": {},
   "source": [
    "### Correlation between Age and Average Salary"
   ]
  },
  {
   "cell_type": "code",
   "execution_count": 7,
   "id": "5762edcf-18b3-4a55-b295-3bf8171f3aa5",
   "metadata": {},
   "outputs": [
    {
     "data": {
      "text/plain": [
       "<Axes: xlabel='Age'>"
      ]
     },
     "execution_count": 7,
     "metadata": {},
     "output_type": "execute_result"
    },
    {
     "data": {
      "image/png": "[encoded data removed]",
      "text/plain": [
       "<Figure size 640x480 with 1 Axes>"
      ]
     },
     "metadata": {},
     "output_type": "display_data"
    }
   ],
   "source": [
    "df.groupby('Age')['Salary'].mean().plot(kind='line')"
   ]
  },
  {
   "cell_type": "markdown",
   "id": "251d6fb0-c203-447b-8a37-53e926836c49",
   "metadata": {},
   "source": [
    "##### The analysis indicates a positive correlation between employee age and average salary, suggesting that earnings tend to rise with experience and age."
   ]
  },
  {
   "cell_type": "code",
   "execution_count": 11,
   "id": "938677ff-d744-4213-a1c2-6274c54c4bf4",
   "metadata": {},
   "outputs": [
    {
     "data": {
      "text/plain": [
       "<Axes: xlabel='Gender', ylabel='Salary'>"
      ]
     },
     "execution_count": 11,
     "metadata": {},
     "output_type": "execute_result"
    },
    {
     "data": {
      "image/png": "[encoded data removed]",
      "text/plain": [
       "<Figure size 640x480 with 1 Axes>"
      ]
     },
     "metadata": {},
     "output_type": "display_data"
    }
   ],
   "source": [
    "import seaborn as sns\n",
    "sns.boxplot(x=\"Gender\", y=\"Salary\", data=df)"
   ]
  },
  {
   "cell_type": "markdown",
   "id": "10704f11-ec90-4514-94bb-b202d3213314",
   "metadata": {},
   "source": [
    "The box plot below compares the salary distribution between male and female employees.\n",
    "\n",
    "While the average salary for males is slightly higher due to a few high-earning outliers, the **median salary for females is slightly higher** than that of males. This suggests that the typical female employee earns as much as, or even more than, the typical male employee, despite the average being skewed by top male earners."
   ]
  },
  {
   "cell_type": "markdown",
   "id": "e8405107-cea7-48a1-bb06-87dd774f7d97",
   "metadata": {},
   "source": [
    "## Data Cleaning:\n",
    "- Drop invalid columns like 'Employee_ID', 'First Name', 'Last Name', 'City' that are not needed for analysis."
   ]
  },
  {
   "cell_type": "code",
   "execution_count": 8,
   "id": "73731336-e6d2-45ae-ba7a-514f99988f2f",
   "metadata": {},
   "outputs": [],
   "source": [
    "df_cleaned = df.drop(columns = ['Employee_ID', 'First Name', 'Last Name', 'City'])"
   ]
  },
  {
   "cell_type": "markdown",
   "id": "a33e11a5-6596-4d93-9a52-539a46bd06c8",
   "metadata": {},
   "source": [
    "# Training The Algorithm\n"
   ]
  },
  {
   "cell_type": "markdown",
   "id": "0a89c9d2-ef50-45f5-9b7a-4c921d4cd8f5",
   "metadata": {},
   "source": [
    "Encoding all the categorical columns (like 'Gender', 'Education Level', and 'Department') into numerical values for training the algorithm."
   ]
  },
  {
   "cell_type": "code",
   "execution_count": 9,
   "id": "f1c58a9a-28af-416f-9906-912b8e3a71d2",
   "metadata": {},
   "outputs": [],
   "source": [
    "df_encoded = pd.get_dummies(df, drop_first = True)"
   ]
  },
  {
   "cell_type": "markdown",
   "id": "643196a8-9827-4cef-96a4-78323d163685",
   "metadata": {},
   "source": [
    "# Goal Of the Project"
   ]
  },
  {
   "cell_type": "markdown",
   "id": "69713834-92d3-44a7-a7fc-0142e5c693a7",
   "metadata": {},
   "source": [
    "Now that we've cleaned and prepared our data, we'll build a linear regression model. \n",
    "\n",
    "Our goal is to see **how well different factors like age, education, and job title can help us predict a salary**."
   ]
  },
  {
   "cell_type": "code",
   "execution_count": 17,
   "id": "d3dd13cb-59e1-41a6-a3ec-cd61d424c010",
   "metadata": {},
   "outputs": [],
   "source": [
    "from sklearn.model_selection import train_test_split\n",
    "from sklearn.linear_model import LinearRegression\n",
    "from sklearn.metrics import mean_squared_error, r2_score"
   ]
  },
  {
   "cell_type": "markdown",
   "id": "47213d65-128b-4db1-9830-3e604f2d6c5c",
   "metadata": {},
   "source": [
    "Defining X (input features) and y (target variable) to train the model."
   ]
  },
  {
   "cell_type": "code",
   "execution_count": 25,
   "id": "0d1fd5df-d1c3-4af4-940e-10e026423aa7",
   "metadata": {},
   "outputs": [],
   "source": [
    "# Select relevant columns\n",
    "X = df[['Age', 'Education Level', 'Department', 'Job Title', 'Performance Rating']]\n",
    "y = df['Salary']\n",
    "\n",
    "# One-hot encode categorical column (Education Level)\n",
    "X = pd.get_dummies(X, columns=['Education Level', 'Department', 'Job Title', 'Performance Rating'], drop_first=True)"
   ]
  },
  {
   "cell_type": "code",
   "execution_count": 26,
   "id": "952290f9-eae2-4eae-af84-d1a76eaa87dc",
   "metadata": {},
   "outputs": [],
   "source": [
    "X_train, X_test, y_train, y_test = train_test_split(X, y, test_size=0.2, random_state=42)"
   ]
  },
  {
   "cell_type": "code",
   "execution_count": 27,
   "id": "500494f2-2fca-4942-b73b-a318ee528308",
   "metadata": {},
   "outputs": [
    {
     "data": {
      "text/html": [
       "<style>#sk-container-id-2 {\n",
       "  /* Definition of color scheme common for light and dark mode */\n",
       "  --sklearn-color-text: #000;\n",
       "  --sklearn-color-text-muted: #666;\n",
       "  --sklearn-color-line: gray;\n",
       "  /* Definition of color scheme for unfitted estimators */\n",
       "  --sklearn-color-unfitted-level-0: #fff5e6;\n",
       "  --sklearn-color-unfitted-level-1: #f6e4d2;\n",
       "  --sklearn-color-unfitted-level-2: #ffe0b3;\n",
       "  --sklearn-color-unfitted-level-3: chocolate;\n",
       "  /* Definition of color scheme for fitted estimators */\n",
       "  --sklearn-color-fitted-level-0: #f0f8ff;\n",
       "  --sklearn-color-fitted-level-1: #d4ebff;\n",
       "  --sklearn-color-fitted-level-2: #b3dbfd;\n",
       "  --sklearn-color-fitted-level-3: cornflowerblue;\n",
       "\n",
       "  /* Specific color for light theme */\n",
       "  --sklearn-color-text-on-default-background: var(--sg-text-color, var(--theme-code-foreground, var(--jp-content-font-color1, black)));\n",
       "  --sklearn-color-background: var(--sg-background-color, var(--theme-background, var(--jp-layout-color0, white)));\n",
       "  --sklearn-color-border-box: var(--sg-text-color, var(--theme-code-foreground, var(--jp-content-font-color1, black)));\n",
       "  --sklearn-color-icon: #696969;\n",
       "\n",
       "  @media (prefers-color-scheme: dark) {\n",
       "    /* Redefinition of color scheme for dark theme */\n",
       "    --sklearn-color-text-on-default-background: var(--sg-text-color, var(--theme-code-foreground, var(--jp-content-font-color1, white)));\n",
       "    --sklearn-color-background: var(--sg-background-color, var(--theme-background, var(--jp-layout-color0, #111)));\n",
       "    --sklearn-color-border-box: var(--sg-text-color, var(--theme-code-foreground, var(--jp-content-font-color1, white)));\n",
       "    --sklearn-color-icon: #878787;\n",
       "  }\n",
       "}\n",
       "\n",
       "#sk-container-id-2 {\n",
       "  color: var(--sklearn-color-text);\n",
       "}\n",
       "\n",
       "#sk-container-id-2 pre {\n",
       "  padding: 0;\n",
       "}\n",
       "\n",
       "#sk-container-id-2 input.sk-hidden--visually {\n",
       "  border: 0;\n",
       "  clip: rect(1px 1px 1px 1px);\n",
       "  clip: rect(1px, 1px, 1px, 1px);\n",
       "  height: 1px;\n",
       "  margin: -1px;\n",
       "  overflow: hidden;\n",
       "  padding: 0;\n",
       "  position: absolute;\n",
       "  width: 1px;\n",
       "}\n",
       "\n",
       "#sk-container-id-2 div.sk-dashed-wrapped {\n",
       "  border: 1px dashed var(--sklearn-color-line);\n",
       "  margin: 0 0.4em 0.5em 0.4em;\n",
       "  box-sizing: border-box;\n",
       "  padding-bottom: 0.4em;\n",
       "  background-color: var(--sklearn-color-background);\n",
       "}\n",
       "\n",
       "#sk-container-id-2 div.sk-container {\n",
       "  /* jupyter's `normalize.less` sets `[hidden] { display: none; }`\n",
       "     but bootstrap.min.css set `[hidden] { display: none !important; }`\n",
       "     so we also need the `!important` here to be able to override the\n",
       "     default hidden behavior on the sphinx rendered scikit-learn.org.\n",
       "     See: https://github.com/scikit-learn/scikit-learn/issues/21755 */\n",
       "  display: inline-block !important;\n",
       "  position: relative;\n",
       "}\n",
       "\n",
       "#sk-container-id-2 div.sk-text-repr-fallback {\n",
       "  display: none;\n",
       "}\n",
       "\n",
       "div.sk-parallel-item,\n",
       "div.sk-serial,\n",
       "div.sk-item {\n",
       "  /* draw centered vertical line to link estimators */\n",
       "  background-image: linear-gradient(var(--sklearn-color-text-on-default-background), var(--sklearn-color-text-on-default-background));\n",
       "  background-size: 2px 100%;\n",
       "  background-repeat: no-repeat;\n",
       "  background-position: center center;\n",
       "}\n",
       "\n",
       "/* Parallel-specific style estimator block */\n",
       "\n",
       "#sk-container-id-2 div.sk-parallel-item::after {\n",
       "  content: \"\";\n",
       "  width: 100%;\n",
       "  border-bottom: 2px solid var(--sklearn-color-text-on-default-background);\n",
       "  flex-grow: 1;\n",
       "}\n",
       "\n",
       "#sk-container-id-2 div.sk-parallel {\n",
       "  display: flex;\n",
       "  align-items: stretch;\n",
       "  justify-content: center;\n",
       "  background-color: var(--sklearn-color-background);\n",
       "  position: relative;\n",
       "}\n",
       "\n",
       "#sk-container-id-2 div.sk-parallel-item {\n",
       "  display: flex;\n",
       "  flex-direction: column;\n",
       "}\n",
       "\n",
       "#sk-container-id-2 div.sk-parallel-item:first-child::after {\n",
       "  align-self: flex-end;\n",
       "  width: 50%;\n",
       "}\n",
       "\n",
       "#sk-container-id-2 div.sk-parallel-item:last-child::after {\n",
       "  align-self: flex-start;\n",
       "  width: 50%;\n",
       "}\n",
       "\n",
       "#sk-container-id-2 div.sk-parallel-item:only-child::after {\n",
       "  width: 0;\n",
       "}\n",
       "\n",
       "/* Serial-specific style estimator block */\n",
       "\n",
       "#sk-container-id-2 div.sk-serial {\n",
       "  display: flex;\n",
       "  flex-direction: column;\n",
       "  align-items: center;\n",
       "  background-color: var(--sklearn-color-background);\n",
       "  padding-right: 1em;\n",
       "  padding-left: 1em;\n",
       "}\n",
       "\n",
       "\n",
       "/* Toggleable style: style used for estimator/Pipeline/ColumnTransformer box that is\n",
       "clickable and can be expanded/collapsed.\n",
       "- Pipeline and ColumnTransformer use this feature and define the default style\n",
       "- Estimators will overwrite some part of the style using the `sk-estimator` class\n",
       "*/\n",
       "\n",
       "/* Pipeline and ColumnTransformer style (default) */\n",
       "\n",
       "#sk-container-id-2 div.sk-toggleable {\n",
       "  /* Default theme specific background. It is overwritten whether we have a\n",
       "  specific estimator or a Pipeline/ColumnTransformer */\n",
       "  background-color: var(--sklearn-color-background);\n",
       "}\n",
       "\n",
       "/* Toggleable label */\n",
       "#sk-container-id-2 label.sk-toggleable__label {\n",
       "  cursor: pointer;\n",
       "  display: flex;\n",
       "  width: 100%;\n",
       "  margin-bottom: 0;\n",
       "  padding: 0.5em;\n",
       "  box-sizing: border-box;\n",
       "  text-align: center;\n",
       "  align-items: start;\n",
       "  justify-content: space-between;\n",
       "  gap: 0.5em;\n",
       "}\n",
       "\n",
       "#sk-container-id-2 label.sk-toggleable__label .caption {\n",
       "  font-size: 0.6rem;\n",
       "  font-weight: lighter;\n",
       "  color: var(--sklearn-color-text-muted);\n",
       "}\n",
       "\n",
       "#sk-container-id-2 label.sk-toggleable__label-arrow:before {\n",
       "  /* Arrow on the left of the label */\n",
       "  content: \"▸\";\n",
       "  float: left;\n",
       "  margin-right: 0.25em;\n",
       "  color: var(--sklearn-color-icon);\n",
       "}\n",
       "\n",
       "#sk-container-id-2 label.sk-toggleable__label-arrow:hover:before {\n",
       "  color: var(--sklearn-color-text);\n",
       "}\n",
       "\n",
       "/* Toggleable content - dropdown */\n",
       "\n",
       "#sk-container-id-2 div.sk-toggleable__content {\n",
       "  max-height: 0;\n",
       "  max-width: 0;\n",
       "  overflow: hidden;\n",
       "  text-align: left;\n",
       "  /* unfitted */\n",
       "  background-color: var(--sklearn-color-unfitted-level-0);\n",
       "}\n",
       "\n",
       "#sk-container-id-2 div.sk-toggleable__content.fitted {\n",
       "  /* fitted */\n",
       "  background-color: var(--sklearn-color-fitted-level-0);\n",
       "}\n",
       "\n",
       "#sk-container-id-2 div.sk-toggleable__content pre {\n",
       "  margin: 0.2em;\n",
       "  border-radius: 0.25em;\n",
       "  color: var(--sklearn-color-text);\n",
       "  /* unfitted */\n",
       "  background-color: var(--sklearn-color-unfitted-level-0);\n",
       "}\n",
       "\n",
       "#sk-container-id-2 div.sk-toggleable__content.fitted pre {\n",
       "  /* unfitted */\n",
       "  background-color: var(--sklearn-color-fitted-level-0);\n",
       "}\n",
       "\n",
       "#sk-container-id-2 input.sk-toggleable__control:checked~div.sk-toggleable__content {\n",
       "  /* Expand drop-down */\n",
       "  max-height: 200px;\n",
       "  max-width: 100%;\n",
       "  overflow: auto;\n",
       "}\n",
       "\n",
       "#sk-container-id-2 input.sk-toggleable__control:checked~label.sk-toggleable__label-arrow:before {\n",
       "  content: \"▾\";\n",
       "}\n",
       "\n",
       "/* Pipeline/ColumnTransformer-specific style */\n",
       "\n",
       "#sk-container-id-2 div.sk-label input.sk-toggleable__control:checked~label.sk-toggleable__label {\n",
       "  color: var(--sklearn-color-text);\n",
       "  background-color: var(--sklearn-color-unfitted-level-2);\n",
       "}\n",
       "\n",
       "#sk-container-id-2 div.sk-label.fitted input.sk-toggleable__control:checked~label.sk-toggleable__label {\n",
       "  background-color: var(--sklearn-color-fitted-level-2);\n",
       "}\n",
       "\n",
       "/* Estimator-specific style */\n",
       "\n",
       "/* Colorize estimator box */\n",
       "#sk-container-id-2 div.sk-estimator input.sk-toggleable__control:checked~label.sk-toggleable__label {\n",
       "  /* unfitted */\n",
       "  background-color: var(--sklearn-color-unfitted-level-2);\n",
       "}\n",
       "\n",
       "#sk-container-id-2 div.sk-estimator.fitted input.sk-toggleable__control:checked~label.sk-toggleable__label {\n",
       "  /* fitted */\n",
       "  background-color: var(--sklearn-color-fitted-level-2);\n",
       "}\n",
       "\n",
       "#sk-container-id-2 div.sk-label label.sk-toggleable__label,\n",
       "#sk-container-id-2 div.sk-label label {\n",
       "  /* The background is the default theme color */\n",
       "  color: var(--sklearn-color-text-on-default-background);\n",
       "}\n",
       "\n",
       "/* On hover, darken the color of the background */\n",
       "#sk-container-id-2 div.sk-label:hover label.sk-toggleable__label {\n",
       "  color: var(--sklearn-color-text);\n",
       "  background-color: var(--sklearn-color-unfitted-level-2);\n",
       "}\n",
       "\n",
       "/* Label box, darken color on hover, fitted */\n",
       "#sk-container-id-2 div.sk-label.fitted:hover label.sk-toggleable__label.fitted {\n",
       "  color: var(--sklearn-color-text);\n",
       "  background-color: var(--sklearn-color-fitted-level-2);\n",
       "}\n",
       "\n",
       "/* Estimator label */\n",
       "\n",
       "#sk-container-id-2 div.sk-label label {\n",
       "  font-family: monospace;\n",
       "  font-weight: bold;\n",
       "  display: inline-block;\n",
       "  line-height: 1.2em;\n",
       "}\n",
       "\n",
       "#sk-container-id-2 div.sk-label-container {\n",
       "  text-align: center;\n",
       "}\n",
       "\n",
       "/* Estimator-specific */\n",
       "#sk-container-id-2 div.sk-estimator {\n",
       "  font-family: monospace;\n",
       "  border: 1px dotted var(--sklearn-color-border-box);\n",
       "  border-radius: 0.25em;\n",
       "  box-sizing: border-box;\n",
       "  margin-bottom: 0.5em;\n",
       "  /* unfitted */\n",
       "  background-color: var(--sklearn-color-unfitted-level-0);\n",
       "}\n",
       "\n",
       "#sk-container-id-2 div.sk-estimator.fitted {\n",
       "  /* fitted */\n",
       "  background-color: var(--sklearn-color-fitted-level-0);\n",
       "}\n",
       "\n",
       "/* on hover */\n",
       "#sk-container-id-2 div.sk-estimator:hover {\n",
       "  /* unfitted */\n",
       "  background-color: var(--sklearn-color-unfitted-level-2);\n",
       "}\n",
       "\n",
       "#sk-container-id-2 div.sk-estimator.fitted:hover {\n",
       "  /* fitted */\n",
       "  background-color: var(--sklearn-color-fitted-level-2);\n",
       "}\n",
       "\n",
       "/* Specification for estimator info (e.g. \"i\" and \"?\") */\n",
       "\n",
       "/* Common style for \"i\" and \"?\" */\n",
       "\n",
       ".sk-estimator-doc-link,\n",
       "a:link.sk-estimator-doc-link,\n",
       "a:visited.sk-estimator-doc-link {\n",
       "  float: right;\n",
       "  font-size: smaller;\n",
       "  line-height: 1em;\n",
       "  font-family: monospace;\n",
       "  background-color: var(--sklearn-color-background);\n",
       "  border-radius: 1em;\n",
       "  height: 1em;\n",
       "  width: 1em;\n",
       "  text-decoration: none !important;\n",
       "  margin-left: 0.5em;\n",
       "  text-align: center;\n",
       "  /* unfitted */\n",
       "  border: var(--sklearn-color-unfitted-level-1) 1pt solid;\n",
       "  color: var(--sklearn-color-unfitted-level-1);\n",
       "}\n",
       "\n",
       ".sk-estimator-doc-link.fitted,\n",
       "a:link.sk-estimator-doc-link.fitted,\n",
       "a:visited.sk-estimator-doc-link.fitted {\n",
       "  /* fitted */\n",
       "  border: var(--sklearn-color-fitted-level-1) 1pt solid;\n",
       "  color: var(--sklearn-color-fitted-level-1);\n",
       "}\n",
       "\n",
       "/* On hover */\n",
       "div.sk-estimator:hover .sk-estimator-doc-link:hover,\n",
       ".sk-estimator-doc-link:hover,\n",
       "div.sk-label-container:hover .sk-estimator-doc-link:hover,\n",
       ".sk-estimator-doc-link:hover {\n",
       "  /* unfitted */\n",
       "  background-color: var(--sklearn-color-unfitted-level-3);\n",
       "  color: var(--sklearn-color-background);\n",
       "  text-decoration: none;\n",
       "}\n",
       "\n",
       "div.sk-estimator.fitted:hover .sk-estimator-doc-link.fitted:hover,\n",
       ".sk-estimator-doc-link.fitted:hover,\n",
       "div.sk-label-container:hover .sk-estimator-doc-link.fitted:hover,\n",
       ".sk-estimator-doc-link.fitted:hover {\n",
       "  /* fitted */\n",
       "  background-color: var(--sklearn-color-fitted-level-3);\n",
       "  color: var(--sklearn-color-background);\n",
       "  text-decoration: none;\n",
       "}\n",
       "\n",
       "/* Span, style for the box shown on hovering the info icon */\n",
       ".sk-estimator-doc-link span {\n",
       "  display: none;\n",
       "  z-index: 9999;\n",
       "  position: relative;\n",
       "  font-weight: normal;\n",
       "  right: .2ex;\n",
       "  padding: .5ex;\n",
       "  margin: .5ex;\n",
       "  width: min-content;\n",
       "  min-width: 20ex;\n",
       "  max-width: 50ex;\n",
       "  color: var(--sklearn-color-text);\n",
       "  box-shadow: 2pt 2pt 4pt #999;\n",
       "  /* unfitted */\n",
       "  background: var(--sklearn-color-unfitted-level-0);\n",
       "  border: .5pt solid var(--sklearn-color-unfitted-level-3);\n",
       "}\n",
       "\n",
       ".sk-estimator-doc-link.fitted span {\n",
       "  /* fitted */\n",
       "  background: var(--sklearn-color-fitted-level-0);\n",
       "  border: var(--sklearn-color-fitted-level-3);\n",
       "}\n",
       "\n",
       ".sk-estimator-doc-link:hover span {\n",
       "  display: block;\n",
       "}\n",
       "\n",
       "/* \"?\"-specific style due to the `<a>` HTML tag */\n",
       "\n",
       "#sk-container-id-2 a.estimator_doc_link {\n",
       "  float: right;\n",
       "  font-size: 1rem;\n",
       "  line-height: 1em;\n",
       "  font-family: monospace;\n",
       "  background-color: var(--sklearn-color-background);\n",
       "  border-radius: 1rem;\n",
       "  height: 1rem;\n",
       "  width: 1rem;\n",
       "  text-decoration: none;\n",
       "  /* unfitted */\n",
       "  color: var(--sklearn-color-unfitted-level-1);\n",
       "  border: var(--sklearn-color-unfitted-level-1) 1pt solid;\n",
       "}\n",
       "\n",
       "#sk-container-id-2 a.estimator_doc_link.fitted {\n",
       "  /* fitted */\n",
       "  border: var(--sklearn-color-fitted-level-1) 1pt solid;\n",
       "  color: var(--sklearn-color-fitted-level-1);\n",
       "}\n",
       "\n",
       "/* On hover */\n",
       "#sk-container-id-2 a.estimator_doc_link:hover {\n",
       "  /* unfitted */\n",
       "  background-color: var(--sklearn-color-unfitted-level-3);\n",
       "  color: var(--sklearn-color-background);\n",
       "  text-decoration: none;\n",
       "}\n",
       "\n",
       "#sk-container-id-2 a.estimator_doc_link.fitted:hover {\n",
       "  /* fitted */\n",
       "  background-color: var(--sklearn-color-fitted-level-3);\n",
       "}\n",
       "</style><div id=\"sk-container-id-2\" class=\"sk-top-container\"><div class=\"sk-text-repr-fallback\"><pre>LinearRegression()</pre><b>In a Jupyter environment, please rerun this cell to show the HTML representation or trust the notebook. <br />On GitHub, the HTML representation is unable to render, please try loading this page with nbviewer.org.</b></div><div class=\"sk-container\" hidden><div class=\"sk-item\"><div class=\"sk-estimator fitted sk-toggleable\"><input class=\"sk-toggleable__control sk-hidden--visually\" id=\"sk-estimator-id-2\" type=\"checkbox\" checked><label for=\"sk-estimator-id-2\" class=\"sk-toggleable__label fitted sk-toggleable__label-arrow\"><div><div>LinearRegression</div></div><div><a class=\"sk-estimator-doc-link fitted\" rel=\"noreferrer\" target=\"_blank\" href=\"https://scikit-learn.org/1.6/modules/generated/sklearn.linear_model.LinearRegression.html\">?<span>Documentation for LinearRegression</span></a><span class=\"sk-estimator-doc-link fitted\">i<span>Fitted</span></span></div></label><div class=\"sk-toggleable__content fitted\"><pre>LinearRegression()</pre></div> </div></div></div></div>"
      ],
      "text/plain": [
       "LinearRegression()"
      ]
     },
     "execution_count": 27,
     "metadata": {},
     "output_type": "execute_result"
    }
   ],
   "source": [
    "model = LinearRegression()\n",
    "model.fit(X_train, y_train)"
   ]
  },
  {
   "cell_type": "markdown",
   "id": "673aba43-f617-4949-af46-b022b0bda494",
   "metadata": {},
   "source": [
    "### Evaluation of Model's Performance"
   ]
  },
  {
   "cell_type": "code",
   "execution_count": 28,
   "id": "e73f245f-7c27-4dd6-97ff-5dcce557aa2e",
   "metadata": {},
   "outputs": [
    {
     "name": "stdout",
     "output_type": "stream",
     "text": [
      "Mean Squared Error: 67100257.986360975\n",
      "R² Score: 0.645902351897818\n"
     ]
    }
   ],
   "source": [
    "y_pred = model.predict(X_test)\n",
    "print(\"Mean Squared Error:\", mean_squared_error(y_test, y_pred))\n",
    "print(\"R² Score:\", r2_score(y_test, y_pred))"
   ]
  },
  {
   "cell_type": "markdown",
   "id": "56ec9ff0-8cd0-4645-9267-c5ef6084f5db",
   "metadata": {},
   "source": [
    "After training the model, we can test its accuracy with some key metrics. Here are the results:\n",
    "\n",
    "**Mean Squared Error (MSE):** A lower MSE value is better. Our MSE is **67,100,257.99**, which represents the average squared difference between our model's predictions and the actual salaries. This tells us that, on average, our predictions were off by about $8,191 (the square root of the MSE).\n",
    "\n",
    "**R² Score:** The R² score tells us how much of the salary variance our model can explain. An R² of 1 is a perfect model. Our model achieved an R² score of **0.646**, which means it can explain approximately **64.6% of the salary variation** in our data. This is a good result and shows that our chosen features are strong predictors of salary."
   ]
  },
  {
   "cell_type": "markdown",
   "id": "7478f1fc-b2a3-41d4-96e3-67ccaa491003",
   "metadata": {},
   "source": [
    "### Understanding what factors influence the Salary"
   ]
  },
  {
   "cell_type": "code",
   "execution_count": 29,
   "id": "ae0c3aba-f81d-4453-ac7a-fc1b0509f171",
   "metadata": {},
   "outputs": [
    {
     "name": "stdout",
     "output_type": "stream",
     "text": [
      "                                            Coefficient\n",
      "Age                                          124.215735\n",
      "Education Level_High School                -2976.157915\n",
      "Education Level_Master                     -1942.291419\n",
      "Education Level_PhD                         2140.158284\n",
      "Department_Finance                          -612.420549\n",
      "Department_HR                              -4178.700628\n",
      "Department_IT                              11811.157998\n",
      "Department_Marketing                         664.189150\n",
      "Department_Operations                         81.611707\n",
      "Department_Sales                            6643.623055\n",
      "Job Title_Accounts Payable Specialist     -11268.904248\n",
      "Job Title_Content Creator                 -12868.993991\n",
      "Job Title_Customer Service Manager          9976.383137\n",
      "Job Title_Customer Service Representative -11891.868531\n",
      "Job Title_Finance Manager                  54508.996813\n",
      "Job Title_Financial Analyst                11488.914546\n",
      "Job Title_HR Assistant                     -8114.184338\n",
      "Job Title_HR Coordinator                   -8037.625585\n",
      "Job Title_HR Manager                       14847.201102\n",
      "Job Title_Help Desk Technician              -955.424977\n",
      "Job Title_IT Manager                       27119.859695\n",
      "Job Title_IT Support Specialist           -23369.983213\n",
      "Job Title_Inventory Specialist            -11631.975911\n",
      "Job Title_Logistics Coordinator           -11591.540386\n",
      "Job Title_Marketing Coordinator            -7058.423559\n",
      "Job Title_Marketing Manager                20951.585055\n",
      "Job Title_Operations Analyst                -152.280892\n",
      "Job Title_Operations Manager               23457.408897\n",
      "Job Title_Recruiter                        -2874.091808\n",
      "Job Title_SEO Specialist                    -359.978355\n",
      "Job Title_Sales Consultant                  4433.867392\n",
      "Job Title_Sales Manager                    21303.682869\n",
      "Job Title_Sales Representative            -12654.095744\n",
      "Job Title_Sales Specialist                 -6439.831462\n",
      "Job Title_Software Developer                7888.800872\n",
      "Job Title_Support Specialist              -11538.550362\n",
      "Job Title_System Administrator               172.480644\n",
      "Performance Rating_Good                      419.738753\n",
      "Performance Rating_Needs Improvement         529.166735\n",
      "Performance Rating_Satisfactory              169.451707\n"
     ]
    }
   ],
   "source": [
    "coefficients = pd.DataFrame(model.coef_, X.columns, columns=['Coefficient'])\n",
    "print(coefficients)"
   ]
  },
  {
   "cell_type": "markdown",
   "id": "a4f6164e-29c2-4ce2-a7b7-0b8e48eddff8",
   "metadata": {},
   "source": [
    "### Final Insights"
   ]
  },
  {
   "cell_type": "markdown",
   "id": "ece10e16-7c7e-4fdd-8916-a679337158a9",
   "metadata": {},
   "source": [
    "The coefficients above tell us the impact of each feature on an employee's salary. A positive value means the feature increases salary, while a negative value means it decreases it.\n",
    "\n",
    "**Age:** For every year an employee gets older, their salary is expected to increase by approximately $124.\n",
    "\n",
    "**Education Level:** Compared to someone with a Bachelor's degree (our baseline), having a PhD increases the salary by about 2,140, while having only a High School education decreases it by about $2,976.\n",
    "\n",
    "**Job Title and Department:** We can see that certain jobs have a big impact. For example, being an **IT Manager** or a **Finance Manager** has a very large positive effect on salary.\n",
    "\n",
    "**Performance Rating**: Interestingly, the ratings don't have a huge effect on salary in our model. This could be because other factors like job title and department are more important, or it might mean that performance ratings are not a strong predictor of salary in this dataset."
   ]
  },
  {
   "cell_type": "code",
   "execution_count": null,
   "id": "308f6846-4869-45c2-a48d-3fd8405cd183",
   "metadata": {},
   "outputs": [],
   "source": []
  }
 ],
 "metadata": {
  "kernelspec": {
   "display_name": "Python 3 (ipykernel)",
   "language": "python",
   "name": "python3"
  },
  "language_info": {
   "codemirror_mode": {
    "name": "ipython",
    "version": 3
   },
   "file_extension": ".py",
   "mimetype": "text/x-python",
   "name": "python",
   "nbconvert_exporter": "python",
   "pygments_lexer": "ipython3",
   "version": "3.13.5"
  }
 },
 "nbformat": 4,
 "nbformat_minor": 5
}
